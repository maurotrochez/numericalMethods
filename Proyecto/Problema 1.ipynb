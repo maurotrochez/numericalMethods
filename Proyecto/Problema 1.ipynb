{
 "cells": [
  {
   "cell_type": "markdown",
   "metadata": {},
   "source": [
    "# Problema 1\n",
    "Aplique el metodo de error de (Error de 0,000001)\n",
    "* a. Newton Raphson\n",
    "* b. Secante\n",
    "* c. Bisección\n",
    "* d. Posición falsa\n",
    "\n",
    "Para hallar la raíz de las ecuaciones\n",
    "\n",
    "$x^3-7x+1=0$ entre (0,1) y entre (2,3)\n",
    "\n",
    "$x^3-5x+1=0$ entre (-1,0)\n",
    "\n",
    "$x^4-3x^3-2x-1=0$ entre (-1,0) y entre (3,4)\n",
    "\n",
    "\n"
   ]
  },
  {
   "cell_type": "code",
   "execution_count": 36,
   "metadata": {
    "collapsed": true
   },
   "outputs": [],
   "source": [
    "def f1(x):\n",
    "    return x**3 - 7 * x + 2\n",
    "\n",
    "def Df1(x):\n",
    "    return 3 * x**2 - 7\n",
    "\n",
    "def f2(x):\n",
    "    return (x)**3 + 5 * x + 1\n",
    "\n",
    "def Df2(x):\n",
    "    return 3 * (x)**2 + 5\n",
    "\n",
    "def f3(x):\n",
    "    return x**4 - 3 * x**3 - 2 * x - 1\n",
    "\n",
    "def Df3(x):\n",
    "    return 4 * x**3 - 9 * x**2 - 2"
   ]
  },
  {
   "cell_type": "markdown",
   "metadata": {},
   "source": [
    "## Newton Raphson"
   ]
  },
  {
   "cell_type": "code",
   "execution_count": 37,
   "metadata": {
    "collapsed": true
   },
   "outputs": [],
   "source": [
    "import numpy as np\n",
    "import matplotlib.pyplot as plt\n",
    "\n",
    "def iteraciones(i, x0, f, Df):\n",
    "    for i, itera in enumerate(range(i)):\n",
    "        x1 = x0 - f(x0) / Df(x0)\n",
    "        x0 = x1\n",
    "        print(\"Iteracción {0}, raíz aproximada: {1}\".format(i, x0))\n",
    "    return x0"
   ]
  },
  {
   "cell_type": "markdown",
   "metadata": {},
   "source": [
    "## $x^3-7x+1=0$ entre (0,1) y entre (2,3)"
   ]
  },
  {
   "cell_type": "code",
   "execution_count": 38,
   "metadata": {},
   "outputs": [
    {
     "name": "stdout",
     "output_type": "stream",
     "text": [
      "Iteracción 0, raíz aproximada: 0.2857142857142857\n",
      "Iteracción 1, raíz aproximada: 0.28916702632714714\n",
      "Iteracción 2, raíz aproximada: 0.289168546448013\n",
      "Iteracción 3, raíz aproximada: 0.28916854644831\n"
     ]
    }
   ],
   "source": [
    "def f(x):\n",
    "    return x**3 - 7 * x + 2\n",
    "\n",
    "def Df(x):\n",
    "    return 3 * x**2 - 7\n",
    "\n",
    "x0 = 0\n",
    "raiz01 = iteraciones(4, x0, f, Df)"
   ]
  },
  {
   "cell_type": "code",
   "execution_count": 39,
   "metadata": {},
   "outputs": [
    {
     "name": "stdout",
     "output_type": "stream",
     "text": [
      "Iteracción 0, raíz aproximada: 2.8\n",
      "Iteracción 1, raíz aproximada: 2.5365617433414043\n",
      "Iteracción 2, raíz aproximada: 2.4906622932847173\n",
      "Iteracción 3, raíz aproximada: 2.489289786076744\n"
     ]
    }
   ],
   "source": [
    "x01 = 2\n",
    "raiz02 = iteraciones(4, x01, f, Df)"
   ]
  },
  {
   "cell_type": "code",
   "execution_count": 40,
   "metadata": {},
   "outputs": [
    {
     "data": {
      "image/png": "[encoded data removed]",
      "text/plain": [
       "<matplotlib.figure.Figure at 0x1089cf6a0>"
      ]
     },
     "metadata": {},
     "output_type": "display_data"
    }
   ],
   "source": [
    "x = np.linspace(0, 3, 100)\n",
    "plt.plot(x, f(x))\n",
    "plt.plot(raiz01, f(raiz01), 'or')\n",
    "plt.plot(raiz02, f(raiz02), 'or')\n",
    "plt.grid()\n",
    "plt.show()"
   ]
  },
  {
   "cell_type": "markdown",
   "metadata": {},
   "source": [
    "## $x^3+5x+1=0$ entre (-1,0)"
   ]
  },
  {
   "cell_type": "code",
   "execution_count": 41,
   "metadata": {},
   "outputs": [
    {
     "name": "stdout",
     "output_type": "stream",
     "text": [
      "Iteracción 0, raíz aproximada: -0.375\n",
      "Iteracción 1, raíz aproximada: -0.20389048991354466\n",
      "Iteracción 2, raíz aproximada: -0.1984407323633032\n",
      "Iteracción 3, raíz aproximada: -0.19843721454006236\n"
     ]
    }
   ],
   "source": [
    "def f(x):\n",
    "    return (x)**3 + 5 * x + 1\n",
    "\n",
    "def Df(x):\n",
    "    return 3 * (x)**2 + 5\n",
    "\n",
    "x0 = -1\n",
    "raiz = iteraciones(4, x0, f, Df)"
   ]
  },
  {
   "cell_type": "code",
   "execution_count": 42,
   "metadata": {},
   "outputs": [
    {
     "data": {
      "image/png": "[encoded data removed]",
      "text/plain": [
       "<matplotlib.figure.Figure at 0x108d82a90>"
      ]
     },
     "metadata": {},
     "output_type": "display_data"
    }
   ],
   "source": [
    "x = np.linspace(-1, 0, 100)\n",
    "plt.plot(x, f(x))\n",
    "plt.plot(raiz, f(raiz), 'or')\n",
    "plt.grid()\n",
    "plt.show()"
   ]
  },
  {
   "cell_type": "markdown",
   "metadata": {},
   "source": [
    "## $x^4-3x^3-2x-1=0$ entre (-1,0) y entre (3,4)"
   ]
  },
  {
   "cell_type": "code",
   "execution_count": 43,
   "metadata": {},
   "outputs": [
    {
     "name": "stdout",
     "output_type": "stream",
     "text": [
      "Iteracción 0, raíz aproximada: -0.6666666666666667\n",
      "Iteracción 1, raíz aproximada: -0.46907216494845366\n",
      "Iteracción 2, raíz aproximada: -0.40165160472171824\n",
      "Iteracción 3, raíz aproximada: -0.39526083415598195\n"
     ]
    }
   ],
   "source": [
    "def f(x):\n",
    "    return x**4 - 3 * x**3 - 2 * x - 1\n",
    "\n",
    "def Df(x):\n",
    "    return 4 * x**3 - 9 * x**2 - 2\n",
    "\n",
    "x0 = -1\n",
    "raiz01 = iteraciones(4, x0, f, Df)"
   ]
  },
  {
   "cell_type": "code",
   "execution_count": 44,
   "metadata": {},
   "outputs": [
    {
     "name": "stdout",
     "output_type": "stream",
     "text": [
      "Iteracción 0, raíz aproximada: 3.2800000000000002\n",
      "Iteracción 1, raíz aproximada: 3.2251733951085853\n",
      "Iteracción 2, raíz aproximada: 3.2224865848179314\n",
      "Iteracción 3, raíz aproximada: 3.222480313018516\n"
     ]
    }
   ],
   "source": [
    "x01 = 3\n",
    "raiz02 = iteraciones(4, x01, f, Df)"
   ]
  },
  {
   "cell_type": "code",
   "execution_count": 45,
   "metadata": {
    "scrolled": true
   },
   "outputs": [
    {
     "data": {
      "image/png": "[encoded data removed]",
      "text/plain": [
       "<matplotlib.figure.Figure at 0x108928e10>"
      ]
     },
     "metadata": {},
     "output_type": "display_data"
    }
   ],
   "source": [
    "x = np.linspace(-1, 4, 100)\n",
    "plt.plot(x, f(x))\n",
    "plt.plot(raiz01, f(raiz01), 'or')\n",
    "plt.plot(raiz02, f(raiz02), 'or')\n",
    "plt.grid()\n",
    "plt.show()"
   ]
  },
  {
   "cell_type": "markdown",
   "metadata": {
    "collapsed": true
   },
   "source": [
    "# Secante"
   ]
  },
  {
   "cell_type": "code",
   "execution_count": 51,
   "metadata": {
    "collapsed": true
   },
   "outputs": [],
   "source": [
    "def iteracion_secante(erroru, f, x1, x0):\n",
    "    raiz = []\n",
    "    raiz.insert(0,0)\n",
    "    error = 1\n",
    "    i = 0\n",
    "    while abs(error) > erroru:\n",
    "        x2 = x1 - (f(x1)*(x1-x0))/(f(x1)-f(x0))\n",
    "        raiz.append(x2)\n",
    "        x0 = x1\n",
    "        x1 = x2\n",
    "        i += 1\n",
    "        error = (raiz[i] - raiz[i-1])/raiz[i]\n",
    "        print(x2)\n",
    "    return x2\n",
    "    "
   ]
  },
  {
   "cell_type": "markdown",
   "metadata": {},
   "source": [
    "## $x^3-7x+1=0$ entre (0,1) y entre (2,3)"
   ]
  },
  {
   "cell_type": "code",
   "execution_count": 53,
   "metadata": {},
   "outputs": [
    {
     "name": "stdout",
     "output_type": "stream",
     "text": [
      "0.6666666666666667\n",
      "-1.2727272727272725\n",
      "0.2568661692332117\n",
      "0.29566794285736525\n",
      "0.2891946461560043\n",
      "0.2891685244619168\n",
      "0.28916854644838375\n"
     ]
    },
    {
     "data": {
      "text/plain": [
       "0.28916854644838375"
      ]
     },
     "execution_count": 53,
     "metadata": {},
     "output_type": "execute_result"
    }
   ],
   "source": [
    "erroru = 0.000001\n",
    "x1 = 2\n",
    "x0 = 0\n",
    "iteracion_secante(erroru, f1, x1, x0)    "
   ]
  },
  {
   "cell_type": "markdown",
   "metadata": {},
   "source": [
    "## $x^3+5x+1=0$ entre (-1,0)"
   ]
  },
  {
   "cell_type": "code",
   "execution_count": 55,
   "metadata": {},
   "outputs": [
    {
     "name": "stdout",
     "output_type": "stream",
     "text": [
      "-0.16666666666666666\n",
      "-0.19889502762430938\n",
      "-0.1984356061922107\n",
      "-0.19843721445291715\n",
      "-0.19843721453862295\n"
     ]
    },
    {
     "data": {
      "text/plain": [
       "-0.19843721453862295"
      ]
     },
     "execution_count": 55,
     "metadata": {},
     "output_type": "execute_result"
    }
   ],
   "source": [
    "erroru = 0.000001\n",
    "x1 = 0\n",
    "x0 = -1\n",
    "iteracion_secante(erroru, f2, x1, x0)  "
   ]
  },
  {
   "cell_type": "markdown",
   "metadata": {},
   "source": [
    "## $x^4-3x^3-2x-1=0$ entre (-1,0) y entre (3,4)"
   ]
  },
  {
   "cell_type": "code",
   "execution_count": 56,
   "metadata": {},
   "outputs": [
    {
     "name": "stdout",
     "output_type": "stream",
     "text": [
      "0.6666666666666665\n",
      "-1.1086956521739126\n",
      "0.12102464554165504\n",
      "-0.06916146830767711\n",
      "-0.49267953723431646\n",
      "-0.3576026849859608\n",
      "-0.39078447892226487\n",
      "-0.39541624911908657\n",
      "-0.3952087989222736\n",
      "-0.3952099230377588\n",
      "-0.3952099233231806\n"
     ]
    },
    {
     "data": {
      "text/plain": [
       "-0.3952099233231806"
      ]
     },
     "execution_count": 56,
     "metadata": {},
     "output_type": "execute_result"
    }
   ],
   "source": [
    "erroru = 0.000001\n",
    "x1 = 3\n",
    "x0 = -1\n",
    "iteracion_secante(erroru, f3, x1, x0)"
   ]
  },
  {
   "cell_type": "markdown",
   "metadata": {},
   "source": [
    "# Bisección"
   ]
  },
  {
   "cell_type": "code",
   "execution_count": 61,
   "metadata": {
    "collapsed": true
   },
   "outputs": [],
   "source": [
    "def iteracion_biseccion(a, b, f):\n",
    "    error = 1\n",
    "    i = 0\n",
    "    while error > 1e-6:\n",
    "        c = (a + b) / 2\n",
    "        fa = f(a)\n",
    "        fc = f(c)\n",
    "        if fc == 0:\n",
    "            raiz = c\n",
    "            break\n",
    "        elif fa * fc < 0:\n",
    "            b = c\n",
    "        else:\n",
    "            a = c\n",
    "        raiz = c\n",
    "        error = abs(fc)\n",
    "        i += 1\n",
    "    print(\"Iteraciones: \"+str(i))\n",
    "    return raiz\n"
   ]
  },
  {
   "cell_type": "markdown",
   "metadata": {},
   "source": [
    "## $x^3-7x+1=0$ entre (0,1) y entre (2,3)"
   ]
  },
  {
   "cell_type": "code",
   "execution_count": 63,
   "metadata": {},
   "outputs": [
    {
     "name": "stdout",
     "output_type": "stream",
     "text": [
      "Iteraciones: 23\n",
      "0.2891685962677002\n"
     ]
    }
   ],
   "source": [
    "a = 0\n",
    "b = 2\n",
    "raiz = iteracion_biseccion(a, b, f1)\n",
    "print(raiz)"
   ]
  },
  {
   "cell_type": "markdown",
   "metadata": {},
   "source": [
    "## $x^3+5x+1=0$ entre (-1,0)"
   ]
  },
  {
   "cell_type": "code",
   "execution_count": 64,
   "metadata": {},
   "outputs": [
    {
     "name": "stdout",
     "output_type": "stream",
     "text": [
      "Iteraciones: 21\n",
      "-0.19843721389770508\n"
     ]
    }
   ],
   "source": [
    "a = -1\n",
    "b = 0\n",
    "raiz = iteracion_biseccion(a, b, f2)\n",
    "print(raiz)"
   ]
  },
  {
   "cell_type": "markdown",
   "metadata": {},
   "source": [
    "## $x^4-3x^3-2x-1=0$ entre (-1,0) y entre (3,4)"
   ]
  },
  {
   "cell_type": "code",
   "execution_count": 65,
   "metadata": {},
   "outputs": [
    {
     "name": "stdout",
     "output_type": "stream",
     "text": [
      "Iteraciones: 23\n",
      "-0.39520978927612305\n"
     ]
    }
   ],
   "source": [
    "a = -1\n",
    "b = 3\n",
    "raiz = iteracion_biseccion(a, b, f3)\n",
    "print(raiz)"
   ]
  },
  {
   "cell_type": "code",
   "execution_count": null,
   "metadata": {
    "collapsed": true
   },
   "outputs": [],
   "source": []
  }
 ],
 "metadata": {
  "kernelspec": {
   "display_name": "Python 3",
   "language": "python",
   "name": "python3"
  },
  "language_info": {
   "codemirror_mode": {
    "name": "ipython",
    "version": 3
   },
   "file_extension": ".py",
   "mimetype": "text/x-python",
   "name": "python",
   "nbconvert_exporter": "python",
   "pygments_lexer": "ipython3",
   "version": "3.5.1"
  }
 },
 "nbformat": 4,
 "nbformat_minor": 2
}
